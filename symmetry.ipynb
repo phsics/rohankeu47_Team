{
  "nbformat": 4,
  "nbformat_minor": 0,
  "metadata": {
    "colab": {
      "provenance": []
    },
    "kernelspec": {
      "name": "python3",
      "display_name": "Python 3"
    },
    "language_info": {
      "name": "python"
    }
  },
  "cells": [
    {
      "cell_type": "markdown",
      "source": [
        "# Symmetry Detection\n",
        "NoteBook for detecting symmetry for problem statement 2 of Adobe GenSolve Hackathon:\n",
        "Detecting vertical, horizontal and radial symmetry in input shapes"
      ],
      "metadata": {
        "id": "SJ3f2W6RqPuS"
      }
    },
    {
      "cell_type": "code",
      "execution_count": 1,
      "metadata": {
        "colab": {
          "base_uri": "https://localhost:8080/"
        },
        "collapsed": true,
        "id": "xXaCuCURC_tt",
        "outputId": "a7e2231e-23ac-4782-a959-e6a024ce0ac3"
      },
      "outputs": [
        {
          "output_type": "stream",
          "name": "stdout",
          "text": [
            "Requirement already satisfied: opencv-python in /usr/local/lib/python3.10/dist-packages (4.10.0.84)\n",
            "Requirement already satisfied: numpy in /usr/local/lib/python3.10/dist-packages (1.26.4)\n",
            "Requirement already satisfied: pandas in /usr/local/lib/python3.10/dist-packages (2.1.4)\n",
            "Requirement already satisfied: scikit-learn in /usr/local/lib/python3.10/dist-packages (1.3.2)\n",
            "Requirement already satisfied: matplotlib in /usr/local/lib/python3.10/dist-packages (3.7.1)\n",
            "Requirement already satisfied: python-dateutil>=2.8.2 in /usr/local/lib/python3.10/dist-packages (from pandas) (2.8.2)\n",
            "Requirement already satisfied: pytz>=2020.1 in /usr/local/lib/python3.10/dist-packages (from pandas) (2024.1)\n",
            "Requirement already satisfied: tzdata>=2022.1 in /usr/local/lib/python3.10/dist-packages (from pandas) (2024.1)\n",
            "Requirement already satisfied: scipy>=1.5.0 in /usr/local/lib/python3.10/dist-packages (from scikit-learn) (1.13.1)\n",
            "Requirement already satisfied: joblib>=1.1.1 in /usr/local/lib/python3.10/dist-packages (from scikit-learn) (1.4.2)\n",
            "Requirement already satisfied: threadpoolctl>=2.0.0 in /usr/local/lib/python3.10/dist-packages (from scikit-learn) (3.5.0)\n",
            "Requirement already satisfied: contourpy>=1.0.1 in /usr/local/lib/python3.10/dist-packages (from matplotlib) (1.2.1)\n",
            "Requirement already satisfied: cycler>=0.10 in /usr/local/lib/python3.10/dist-packages (from matplotlib) (0.12.1)\n",
            "Requirement already satisfied: fonttools>=4.22.0 in /usr/local/lib/python3.10/dist-packages (from matplotlib) (4.53.1)\n",
            "Requirement already satisfied: kiwisolver>=1.0.1 in /usr/local/lib/python3.10/dist-packages (from matplotlib) (1.4.5)\n",
            "Requirement already satisfied: packaging>=20.0 in /usr/local/lib/python3.10/dist-packages (from matplotlib) (24.1)\n",
            "Requirement already satisfied: pillow>=6.2.0 in /usr/local/lib/python3.10/dist-packages (from matplotlib) (9.4.0)\n",
            "Requirement already satisfied: pyparsing>=2.3.1 in /usr/local/lib/python3.10/dist-packages (from matplotlib) (3.1.2)\n",
            "Requirement already satisfied: six>=1.5 in /usr/local/lib/python3.10/dist-packages (from python-dateutil>=2.8.2->pandas) (1.16.0)\n"
          ]
        }
      ],
      "source": [
        "pip install opencv-python numpy pandas scikit-learn matplotlib"
      ]
    },
    {
      "cell_type": "markdown",
      "source": [
        "Import the required libraries"
      ],
      "metadata": {
        "id": "QFyMyH3JYkL1"
      }
    },
    {
      "cell_type": "code",
      "source": [
        "import numpy as np\n",
        "import os\n",
        "import cv2\n",
        "import math\n",
        "import csv\n",
        "import numpy as np\n",
        "import matplotlib.pyplot as plt\n",
        "from cv2 import polylines\n",
        "from sklearn.cluster import DBSCAN"
      ],
      "metadata": {
        "id": "PlHKj_TSYiol"
      },
      "execution_count": 2,
      "outputs": []
    },
    {
      "cell_type": "markdown",
      "source": [
        "**DB Scan clustering**\n",
        "\n",
        "DBSCAN Clustering\n",
        "\n",
        "Shapes are extracted from the combined set of polylines using DBSCAN clustering. This allows to distinguish collection of shapes that are together e.g. a line inside a circle from the ones that are far apart e.g. a rectanle and a star with some distance in between.\n",
        "\n",
        "DBSCAN (Density-Based Spatial Clustering of Applications with Noise) is a clustering algorithm that identifies clusters based on the density of data points. It works by marking points as core points if they have a minimum number of neighboring points within a specified radius (ε). Clusters are formed by connecting core points and their neighbors, while points that do not meet the density criteria are considered noise. DBSCAN can discover clusters of arbitrary shape, does not require specifying the number of clusters beforehand, and is effective at handling noise and outliers in the data.\n",
        "\n",
        "After the points are clustered, the paths containing those points are extracted from the polylines. Every cluster can be considered as a single shape.\n",
        "\n",
        "Overlaps are detected inside a cluster by checking if within a cluster, a point of a particular path is very close (lesser than a threshold) to another point in a different path or subpath within the same cluster.\n",
        "\n",
        "The path with the maximum overlapping points is the occluded path that is to be completed, because it has overlapping points with all the different paths occlude it. The occluded path is extracted for completion"
      ],
      "metadata": {
        "id": "9DCDMh-nhwS_"
      }
    },
    {
      "cell_type": "code",
      "source": [
        "def read_csv(csv_path):\n",
        "    \"\"\"\n",
        "    Read CSV for the given points (provided from GenSolve)\n",
        "    \"\"\"\n",
        "    data = np.genfromtxt(csv_path, delimiter=',')\n",
        "    paths = {}\n",
        "    for row in data:\n",
        "        path_id, sub_path_id, x, y = row\n",
        "        if path_id not in paths:\n",
        "            paths[path_id] = {}\n",
        "        if sub_path_id not in paths[path_id]:\n",
        "            paths[path_id][sub_path_id] = []\n",
        "        paths[path_id][sub_path_id].append((x, y))\n",
        "    return paths\n",
        "\n",
        "def dict_to_numpyarray(polylines):\n",
        "    \"\"\"\n",
        "    convert the polyline dictionary into a numpy array containg all the paths and subpaths\n",
        "    \"\"\"\n",
        "    path_XYs = []  # init empty list to store the formatted paths\n",
        "    # iterate over each path_id in the dictionary, sorted by the path_id\n",
        "    for path_id in sorted(polylines.keys()):\n",
        "        sub_paths = []  # init empty list to store the sub-paths for the current path_id\n",
        "        # iterate over each sub_path id in the current path_id, sorted by the sub_path_id\n",
        "        for sub_path_id in sorted(polylines[path_id].keys()):\n",
        "            # convert the list of (x,y) tuples into a NumPy array\n",
        "            XY = np.array(polylines[path_id][sub_path_id])\n",
        "            # check if the array has atleast two columns (x and y)\n",
        "            if XY.shape[1] >= 2:\n",
        "                # if valid, append the numpy array to the sub_paths list\n",
        "                sub_paths.append(XY)\n",
        "            else:\n",
        "                print(f\"Skipped malformed data: {XY}\")\n",
        "        path_XYs.append(sub_paths)\n",
        "    return path_XYs\n",
        "\n",
        "def extract_clusters(polylineNDArray):\n",
        "    \"\"\"\n",
        "    Extract point clusters (shapes) from the polylines using DBscan\n",
        "    \"\"\"\n",
        "    # Step 3: Apply DBSCAN clustering\n",
        "    db = DBSCAN(eps=7, min_samples=10).fit(polylineNDArray)  # create DBSCAN clustering object and fit to X\n",
        "    core_samples_mask = np.zeros_like(db.labels_,\n",
        "                                      dtype=bool)  # create a boolean mask with the same size as the labels array filled with zeros to identify core samples later\n",
        "    core_samples_mask[\n",
        "        db.core_sample_indices_] = True  # sets the elements of the core_samples_mask corresponding to core samples\n",
        "    labels = db.labels_\n",
        "\n",
        "    # Number of clusters in labels, ignoring noise if present.\n",
        "    n_clusters_ = len(set(labels)) - (1 if -1 in labels else 0)\n",
        "    clustered_data = []\n",
        "\n",
        "    # Step 4: Visualization\n",
        "    unique_labels = set(labels)\n",
        "    # firstly assign a plotcolor value to each unique label as a dictionary\n",
        "    # for k, col in zip(unique_labels, plotcolors):\n",
        "    for k in unique_labels:\n",
        "        # creates a mask that selects points beloging to the current cluster k\n",
        "        class_member_mask = (labels == k)\n",
        "\n",
        "        # core_samples_mask is a boolean array indicating the points which beling to the current cluster k\n",
        "        # performs element-wise logical AND between the two masks, meaning only the points belonging to both\n",
        "        # the current cluster and the core samples are selected\n",
        "        # resulting data points are assigned to xy\n",
        "        xy = polylineNDArray[class_member_mask & core_samples_mask]\n",
        "        clustered_data.append([k, xy])\n",
        "\n",
        "    print(f\"Number of clusters detected: {n_clusters_}\")\n",
        "    return clustered_data\n",
        "\n",
        "def clusters_from_polylines(polyline_np_array, clusters):\n",
        "    \"\"\"\n",
        "    Extract the clusters from the given polylines.\n",
        "    Args:\n",
        "        polyline_np_array (numpy array of polylines) and clusters (list of detected clusters)\n",
        "    Returns:\n",
        "        extracted_clusters = [[[(x1, y1), (x2, y2)]]]\n",
        "    \"\"\"\n",
        "    # first create a list for the clusters to be extracted\n",
        "    extracted_clusters = []\n",
        "    for _, cluster_data in enumerate(clusters):\n",
        "        cluster_id, cluster_points = cluster_data\n",
        "        # skip including for the noise cluster\n",
        "        if cluster_id == -1:\n",
        "            continue\n",
        "        extracted_clusters.append([])\n",
        "        # we put the entire path into the cluster in this case\n",
        "        for path_index, path in enumerate(polyline_np_array):\n",
        "            path_added = False  # flag to indicate if the path was added as an extracted cluster\n",
        "            # if a point in the path exists in the cluster, put the entire path into the cluster\n",
        "            # and move on to the next path\n",
        "            for subpath_idex, subpath in enumerate(path):\n",
        "                for point_index, point in enumerate(subpath):\n",
        "                    if np.any(np.all(point == cluster_points, axis=1)):\n",
        "                        extracted_clusters[cluster_id].append(path)\n",
        "                        path_added = True\n",
        "                        break\n",
        "                if path_added:\n",
        "                    break\n",
        "    return extracted_clusters\n",
        "\n",
        "def dict_to_numpy_combined(polylines):\n",
        "    \"\"\"\n",
        "    Only for clustering. Convert all the points into a single numpy array for clustering using DBscan\n",
        "    Returns: [(x1, y1),(x2, y2)]\n",
        "    \"\"\"\n",
        "    path_XYs = []\n",
        "    for path_id in sorted(polylines.keys()):\n",
        "        sub_paths = []\n",
        "        for sub_path_id in sorted(polylines[path_id].keys()):\n",
        "            XY = np.array(polylines[path_id][sub_path_id])\n",
        "            if XY.shape[1] >= 2:\n",
        "                sub_paths.append(XY)\n",
        "            else:\n",
        "                print(f\"Skipped malformed data: {XY}\")\n",
        "        path_XYs.extend(sub_paths)  # Flatten into a single list of arrays\n",
        "    return np.vstack(path_XYs)  # Combine all arrays into one\n"
      ],
      "metadata": {
        "id": "OF61WwywaqGF"
      },
      "execution_count": 3,
      "outputs": []
    },
    {
      "cell_type": "markdown",
      "source": [
        "Plot Colors"
      ],
      "metadata": {
        "id": "9gqPFF7jCvB_"
      }
    },
    {
      "cell_type": "code",
      "source": [
        "plotcolors = [\n",
        "    \"#FF0000\",  # Red\n",
        "    \"#00FF00\",  # Green\n",
        "    \"#0000FF\",  # Blue\n",
        "    \"#FFFF00\",  # Yellow\n",
        "    \"#800080\",  # Purple\n",
        "    \"#FF7F00\",  # Orange\n",
        "    \"#FFC0CB\",  # Pink\n",
        "    \"#A52A2A\",  # Brown\n",
        "    \"#808080\",  # Gray\n",
        "    \"#008080\",  # Teal\n",
        "    \"#E6E6FA\",  # Lavender\n",
        "    \"#808000\",  # Olive\n",
        "    \"#800000\",  # Maroon\n",
        "    \"#000080\",  # Navy\n",
        "    \"#40E0D0\",  # Turquoise\n",
        "    \"#FF7F50\",  # Coral\n",
        "    \"#00FF7F\",  # Spring Green\n",
        "    \"#FFD700\",  # Gold\n",
        "    \"#C0C0C0\",  # Silver\n",
        "    \"#FF00FF\",  # Magenta\n",
        "    \"#8B0000\",  # Dark Red\n",
        "    \"#2E8B57\",  # Sea Green\n",
        "    \"#DAA520\",  # Goldenrod\n",
        "    \"#4B0082\",  # Indigo\n",
        "    \"#00CED1\",  # Dark Turquoise\n",
        "    \"#9400D3\",  # Dark Violet\n",
        "    \"#FF1493\",  # Deep Pink\n",
        "    \"#708090\",  # Slate Gray\n",
        "    \"#8B4513\",  # Saddle Brown\n",
        "    \"#556B2F\",  # Dark Olive Green\n",
        "    \"#6A5ACD\",  # Slate Blue\n",
        "    \"#4682B4\",  # Steel Blue\n",
        "    \"#FF6347\",  # Tomato\n",
        "    \"#7FFF00\",  # Chartreuse\n",
        "    \"#D2691E\"  # Chocolate\n",
        "]\n",
        "\n",
        "def image_from_numpyarray(path_XYs):\n",
        "    \"\"\"\n",
        "    Create a single channel edge image for the given formatted polyline numpy array.\n",
        "    \"\"\"\n",
        "    max_x, max_y = 0, 0\n",
        "    # Ensure only valid arrays are processed\n",
        "    for XYs in path_XYs:\n",
        "        for XY in XYs:\n",
        "            if XY.shape[1] >= 2:  # Check if XY has at least two columns (x and y)\n",
        "                max_x = max(max_x, int(np.max(XY[:, 0])))\n",
        "                max_y = max(max_y, int(np.max(XY[:, 1])))\n",
        "\n",
        "    # Create a blank image\n",
        "    image = np.zeros((max_y + 10, max_x + 10, 3), dtype=np.uint8)\n",
        "\n",
        "    # Draw the shapes on the image\n",
        "    for XYs in path_XYs:\n",
        "        for XY in XYs:\n",
        "            if XY.shape[1] >= 2:  # Ensure valid XY arrays are processed\n",
        "                points = np.array([(x, y) for x, y in XY], np.int32)\n",
        "                points = points.reshape((-1, 1, 2))\n",
        "                cv2.polylines(image, [points], isClosed=False, color=(255, 255, 255), thickness=2)\n",
        "\n",
        "    return image"
      ],
      "metadata": {
        "id": "bgoE8vvGCtwb"
      },
      "execution_count": 4,
      "outputs": []
    },
    {
      "cell_type": "markdown",
      "source": [
        "**Vertical and Horizontal Symmetry Detection**\n",
        "\n",
        "First, the image is converted to grayscale and then thresholded to create a binary image, highlighting the shapes of interest. The largest contour in the binary image, which represents the primary shape, is identified. The image is then split into two halves: left and right halves for vertical symmetry, and top and bottom halves for horizontal symmetry.\n",
        "\n",
        "To check for vertical symmetry, the right half of the shape is flipped horizontally and compared to the left half using the compare_halves function. This function calculates the absolute difference between corresponding pixels in the two halves. If the number of differing pixels is within a specified threshold (allowing for minor variations), the shape is considered vertically symmetric.\n",
        "\n",
        "Similarly, for horizontal symmetry, the top half is compared to a vertically flipped bottom half. If the difference ratio between the two halves is within the acceptable threshold, the shape is considered horizontally symmetric.\n",
        "\n",
        "If either type of symmetry is detected, a corresponding line of symmetry is drawn on the image. This method allows for small imperfections in symmetry while still identifying the overall symmetric structure of the shape."
      ],
      "metadata": {
        "id": "QVZBk1f5kSPT"
      }
    },
    {
      "cell_type": "code",
      "source": [
        "def compare_halves(half1, half2, threshold=0.05):\n",
        "    \"\"\"Compare two halves of an image, allowing for small differences.\"\"\"\n",
        "    # Ensure both halves are the same size\n",
        "    if half1.shape != half2.shape:\n",
        "        h, w = half1.shape[:2]\n",
        "        half2 = cv2.resize(half2, (w, h))\n",
        "\n",
        "    # Calculate the absolute difference between the two halves\n",
        "    diff = cv2.absdiff(half1, half2)\n",
        "\n",
        "    # Count the number of non-zero (different) pixels\n",
        "    non_zero_count = np.count_nonzero(diff)\n",
        "\n",
        "    # Calculate the percentage of different pixels\n",
        "    total_pixels = half1.size\n",
        "    difference_ratio = non_zero_count / total_pixels\n",
        "\n",
        "    # Check if the difference is within the acceptable threshold\n",
        "    return difference_ratio < threshold\n",
        "\n",
        "\n",
        "def detect_and_draw_symmetry(image, threshold=0.05):\n",
        "    # Load the image and convert to grayscale\n",
        "\n",
        "    gray = cv2.cvtColor(image, cv2.COLOR_BGR2GRAY)\n",
        "\n",
        "    # Apply binary thresholding\n",
        "    _, binary = cv2.threshold(gray, 127, 255, cv2.THRESH_BINARY)\n",
        "\n",
        "    # Find contours of the binary image\n",
        "    contours, _ = cv2.findContours(binary, cv2.RETR_EXTERNAL, cv2.CHAIN_APPROX_SIMPLE)\n",
        "\n",
        "    # Assume the largest contour is the shape of interest\n",
        "    contour = max(contours, key=cv2.contourArea)\n",
        "\n",
        "    # Get bounding rectangle for the contour\n",
        "    x, y, w, h = cv2.boundingRect(contour)\n",
        "\n",
        "    # Check vertical symmetry by comparing left and right halves\n",
        "    left_half = binary[y:y + h, x:x + w // 2]\n",
        "    right_half = cv2.flip(binary[y:y + h, x + w // 2:x + w], 1)\n",
        "\n",
        "    # Ensure right_half is resized to match left_half if necessary\n",
        "    if w % 2 != 0:\n",
        "        right_half = right_half[:, :-1]  # Trim last column if width is odd\n",
        "\n",
        "    if compare_halves(left_half, right_half, threshold):\n",
        "        print(\"The shape has vertical symmetry.\")\n",
        "        # Draw the vertical line of symmetry\n",
        "        cv2.line(image, (x + w // 2, y), (x + w // 2, y + h), (0, 255, 0), 2)\n",
        "    else:\n",
        "        print(\"The shape does not have vertical symmetry.\")\n",
        "\n",
        "    # Check horizontal symmetry by comparing top and bottom halves\n",
        "    top_half = binary[y:y + h // 2, x:x + w]\n",
        "    bottom_half = cv2.flip(binary[y + h // 2:y + h, x:x + w], 0)\n",
        "\n",
        "    # Ensure bottom_half is resized to match top_half if necessary\n",
        "    if h % 2 != 0:\n",
        "        bottom_half = bottom_half[:-1, :]  # Trim last row if height is odd\n",
        "\n",
        "    if compare_halves(top_half, bottom_half, threshold):\n",
        "        print(\"The shape has horizontal symmetry.\")\n",
        "        # Draw the horizontal line of symmetry\n",
        "        cv2.line(image, (x, y + h // 2), (x + w, y + h // 2), (0, 255, 0), 2)\n",
        "    else:\n",
        "        print(\"The shape does not have horizontal symmetry.\")\n",
        "\n",
        "    # Display the result\n",
        "    # cv2.imshow('Symmetry Detection', image)\n",
        "    plt.imshow(cv2.cvtColor(image, cv2.COLOR_BGR2RGB))\n",
        "    plt.title(\"Symmetry Detection\")\n",
        "    plt.axis('off')  # Hide the axis\n",
        "    plt.show()"
      ],
      "metadata": {
        "id": "lBsSGCoIkXjE"
      },
      "execution_count": 5,
      "outputs": []
    },
    {
      "cell_type": "markdown",
      "source": [
        "**Star Detection**\n",
        "First, the input image is converted to grayscale and thresholded to create a binary image where contours can be detected. The contours of the binary image are then found using OpenCV's findContours function. Each detected contour is analyzed to determine if it resembles a star shape by checking if it has a sufficient number of vertices (typically 10 or more). To further validate the star shape, the contour is fitted with a regular star shape by calculating its center and radius, then generating a star with specified points and size. If a contour matches these criteria, it is classified as a star, and the contour is drawn on the image for visualization."
      ],
      "metadata": {
        "id": "BBhI19YSjss3"
      }
    },
    {
      "cell_type": "code",
      "source": [
        "def is_star(contour):\n",
        "    # Calculate the perimeter of the contour\n",
        "    perimeter = cv2.arcLength(contour, True)\n",
        "    # Approximate the shape\n",
        "    approx = cv2.approxPolyDP(contour, 0.04 * perimeter, True)\n",
        "\n",
        "    # Check if the contour has 10 or more points (stars typically have many points)\n",
        "    if len(approx) >= 10:\n",
        "        return True\n",
        "    return False\n",
        "\n",
        "\n",
        "def detect_star(image_path):\n",
        "    # Load the image\n",
        "    image = cv2.imread(image_path)\n",
        "    # Convert to grayscale\n",
        "    gray = cv2.cvtColor(image, cv2.COLOR_BGR2GRAY)\n",
        "    # Apply GaussianBlur to reduce noise and improve contour detection\n",
        "    blurred = cv2.GaussianBlur(gray, (5, 5), 0)\n",
        "    # Apply binary thresholding\n",
        "    _, threshold = cv2.threshold(blurred, 60, 255, cv2.THRESH_BINARY)\n",
        "\n",
        "    # Find contours in the threshold image\n",
        "    contours, _ = cv2.findContours(threshold, cv2.RETR_EXTERNAL, cv2.CHAIN_APPROX_SIMPLE)\n",
        "\n",
        "    for contour in contours:\n",
        "        if is_star(contour):\n",
        "            # Draw the contour\n",
        "            cv2.drawContours(image, [contour], -1, (0, 255, 0), 2)\n",
        "            print(\"Star shape detected!\")\n",
        "\n",
        "    # Display the result\n",
        "    # cv2.imshow(\"Star Detection\", image)\n",
        "    cv2.waitKey(0)\n",
        "    cv2.destroyAllWindows()\n"
      ],
      "metadata": {
        "id": "-1MNlaC4iaTG"
      },
      "execution_count": 6,
      "outputs": []
    },
    {
      "cell_type": "markdown",
      "source": [
        "**Circle Detection**\n",
        "Circles are identified within a set of polylines using the Hough Circle Transform. First, it converts the polylines into an image and then to grayscale. The grayscale image is blurred to reduce noise, making circle detection more accurate. The Hough Circle Transform is then applied, which works by identifying circular shapes based on the gradient information in the image. It returns the parameters (center coordinates and radius) of detected circles."
      ],
      "metadata": {
        "id": "rEfl4E8Pju26"
      }
    },
    {
      "cell_type": "code",
      "source": [
        "def detect_circles(image_path):\n",
        "    img = cv2.imread(image_path, cv2.IMREAD_GRAYSCALE)\n",
        "    if img is None:\n",
        "        raise ValueError(f\"Image at path {image_path} could not be read.\")\n",
        "    img = cv2.medianBlur(img, 5)\n",
        "    circles = cv2.HoughCircles(img, cv2.HOUGH_GRADIENT, 1, 30, param1=100, param2=30, minRadius=60, maxRadius=500)\n",
        "    return circles\n",
        "\n",
        "\n",
        "def draw_circle(image_path, circle_info):\n",
        "    # Read the image\n",
        "    img = cv2.imread(image_path)\n",
        "    if img is None:\n",
        "        raise ValueError(f\"Image at path {image_path} could not be read.\")\n",
        "\n",
        "    # Extract circle information\n",
        "    x, y, r = circle_info[0][0]  # Circle info: [x, y, r]\n",
        "\n",
        "    # Draw the circle in green\n",
        "    cv2.circle(img, (int(x), int(y)), int(r), (0, 255, 0), 4)\n",
        "    # Draw the center of the circle in red\n",
        "    cv2.circle(img, (int(x), int(y)), 2, (0, 0, 255), 3)\n",
        "\n",
        "    # Display the result\n",
        "    # cv2.imshow(\"Circle Detected\", img)\n",
        "    cv2.waitKey(0)\n",
        "    cv2.destroyAllWindows()\n",
        "\n",
        "\n",
        "def save_circles_to_csv(circles, csv_path):\n",
        "    if circles is not None:\n",
        "        circles = np.uint16(np.around(circles))\n",
        "        with open(csv_path, 'w', newline='') as file:\n",
        "            writer = csv.writer(file)\n",
        "            for circle in circles[0, :]:\n",
        "                writer.writerow(circle)\n",
        "        print(f'Circle data saved to: {csv_path}')\n",
        "    else:\n",
        "        print(\"No circles to save.\")\n",
        "\n",
        "def draw_circles_on_image(image, circles, output_image_path):\n",
        "    \"\"\"\n",
        "    Draw circles on the image and save it to the specified path.\n",
        "    Args:\n",
        "        image: The image to draw circles on.\n",
        "        circles: The circles detected by HoughCircles.\n",
        "        output_image_path: The path where the output image will be saved.\n",
        "    \"\"\"\n",
        "    if circles is not None:\n",
        "        for circle in circles[0, :]:\n",
        "            # Extract the center coordinates and radius\n",
        "            center_x, center_y, radius = int(circle[0]), int(circle[1]), int(circle[2])\n",
        "            # Draw the circle on the image\n",
        "            cv2.circle(image, (center_x, center_y), radius, (0, 255, 0), 2)  # Use cv.circle for drawing\n",
        "\n",
        "    # Save the modified image\n",
        "    # cv2.imwrite(output_image_path, image)\n"
      ],
      "metadata": {
        "id": "gT7cGCBYjwa-"
      },
      "execution_count": 7,
      "outputs": []
    },
    {
      "cell_type": "markdown",
      "source": [
        "**Rectangle Detection**\n",
        "First, the image is converted to grayscale, blurred to reduce noise, and then thresholded to create a binary image. Contours are extracted from this binary image to identify potential shapes. Each contour is approximated to a polygon, and rectangles are specifically identified by checking if the polygon has four vertices. To ensure the detected shape is a rectangle, its aspect ratio is checked to be within a predefined range. If these criteria are met, the rectangle's coordinates are stored. Finally, the detected rectangles are converted into polylines, where each rectangle is represented as a series of connected lines, and this representation is returned for further processing or visualization."
      ],
      "metadata": {
        "id": "Ei02rlrYj2U3"
      }
    },
    {
      "cell_type": "code",
      "source": [
        "import cv2\n",
        "import numpy as np\n",
        "\n",
        "\n",
        "def detect_rectangles(image_path):\n",
        "    # Read the image\n",
        "    im = cv2.imread(image_path, cv2.IMREAD_COLOR)\n",
        "    if im is None:\n",
        "        raise FileNotFoundError(\"Image not found!\")\n",
        "\n",
        "    # Convert the image to grayscale\n",
        "    imgray = cv2.cvtColor(im, cv2.COLOR_BGR2GRAY)\n",
        "\n",
        "    # Apply GaussianBlur to reduce noise and improve edge detection\n",
        "    blurred = cv2.GaussianBlur(imgray, (5, 5), 0)\n",
        "\n",
        "    # Threshold the grayscale image\n",
        "    _, thresh = cv2.threshold(blurred, 100, 255, cv2.THRESH_BINARY)\n",
        "\n",
        "    # Find contours\n",
        "    contours, _ = cv2.findContours(thresh, cv2.RETR_TREE, cv2.CHAIN_APPROX_SIMPLE)\n",
        "\n",
        "    # Define the aspect ratio thresholds for detecting rectangles\n",
        "    aspect_ratio_min = 0.8\n",
        "    aspect_ratio_max = 1.2\n",
        "\n",
        "    # To store detected rectangles\n",
        "    detected_rectangles = []\n",
        "\n",
        "    # Iterate through the contours\n",
        "    for contour in contours:\n",
        "        # Approximate the contour to a polygon\n",
        "        epsilon = 0.02 * cv2.arcLength(contour, True)\n",
        "        approx = cv2.approxPolyDP(contour, epsilon, True)\n",
        "\n",
        "        # Check if the polygon has 4 vertices\n",
        "        if len(approx) == 4:\n",
        "            # Get bounding box to calculate aspect ratio\n",
        "            x, y, w, h = cv2.boundingRect(approx)\n",
        "            aspect_ratio = float(w) / h\n",
        "\n",
        "            # Check if the aspect ratio is within the defined range\n",
        "            if aspect_ratio_min < aspect_ratio < aspect_ratio_max:\n",
        "                # Draw the detected rectangle on the image\n",
        "                cv2.drawContours(im, [approx], -1, (0, 255, 0), 2)\n",
        "\n",
        "                # Store the rectangle coordinates\n",
        "                rect_points = approx.reshape(-1, 2)\n",
        "                detected_rectangles.append(rect_points)\n",
        "\n",
        "    return detected_rectangles\n"
      ],
      "metadata": {
        "id": "DDeSRDHMj6RZ"
      },
      "execution_count": 8,
      "outputs": []
    },
    {
      "cell_type": "markdown",
      "source": [
        "Load the csv file"
      ],
      "metadata": {
        "id": "pspDSAGbDY8B"
      }
    },
    {
      "cell_type": "code",
      "source": [
        "csv_file = read_csv('/content/isolated_sol.csv')"
      ],
      "metadata": {
        "id": "z5bzOH24Ce66"
      },
      "execution_count": 20,
      "outputs": []
    },
    {
      "cell_type": "markdown",
      "source": [
        "Main Function"
      ],
      "metadata": {
        "id": "8VhHNUoYDeKZ"
      }
    },
    {
      "cell_type": "code",
      "source": [
        "points_numpy_combined = dict_to_numpy_combined(csv_file)\n",
        "\n",
        "# Extract clusters from the points\n",
        "clusters = extract_clusters(points_numpy_combined)\n",
        "print(\"Clusters detected:\", len(clusters))\n",
        "\n",
        "# Convert dictionary to numpy array for polylines\n",
        "polylines_numpy = dict_to_numpyarray(csv_file)\n",
        "clustered_polylines = clusters_from_polylines(polylines_numpy, clusters)"
      ],
      "metadata": {
        "colab": {
          "base_uri": "https://localhost:8080/"
        },
        "id": "7z72-sG6DzI-",
        "outputId": "ef829992-c71d-4824-c523-fffd8161dd4f"
      },
      "execution_count": 17,
      "outputs": [
        {
          "output_type": "stream",
          "name": "stdout",
          "text": [
            "Number of clusters detected: 1\n",
            "Clusters detected: 2\n"
          ]
        }
      ]
    },
    {
      "cell_type": "markdown",
      "source": [
        "Looping through the clusters"
      ],
      "metadata": {
        "id": "mHK7TzFRGiEX"
      }
    },
    {
      "cell_type": "code",
      "source": [
        "# Process each cluster\n",
        "for _, shape in enumerate(clustered_polylines):\n",
        "    if shape:\n",
        "        image = image_from_numpyarray(shape)\n",
        "        image_path = f\"shape.png\"\n",
        "        cv2.imwrite(image_path, image)\n",
        "        # cv2.imshow(f\"Generated Image for Shape \", image)\n",
        "        # Display the image using Matplotlib\n",
        "        plt.imshow(cv2.cvtColor(image, cv2.COLOR_BGR2RGB))\n",
        "        plt.title(\"Generated Image for Shape\")\n",
        "        plt.axis('off')  # Hide the axis\n",
        "        plt.show()\n",
        "        detect_and_draw_symmetry(image)\n",
        "\n",
        "        # Circle Detection\n",
        "        circles = detect_circles(image_path)\n",
        "        if circles is not None:\n",
        "            print(\"Radial Symmetry detected for circle.\")\n",
        "\n",
        "        # Rectangle detection\n",
        "        if os.path.exists(image_path):\n",
        "            detected_rectangles = detect_rectangles(image_path)\n",
        "            if detected_rectangles:\n",
        "                print(\"Radial Symmetry detected for rectangle.\")\n",
        "\n",
        "        # Star detection\n",
        "        stars = detect_star(image_path)\n",
        "        if stars is not None:\n",
        "            print(\"Radial Symmetry detected for star.\")\n",
        "            print(\"Star Shape Detected\")"
      ],
      "metadata": {
        "colab": {
          "base_uri": "https://localhost:8080/",
          "height": 908
        },
        "id": "9-vMI25lGkKf",
        "outputId": "fc171f87-78a4-4cb0-d3bd-25ccb59fbc52"
      },
      "execution_count": 21,
      "outputs": [
        {
          "output_type": "display_data",
          "data": {
            "text/plain": [
              "<Figure size 640x480 with 1 Axes>"
            ],
            "image/png": "[encoded data removed]"
          },
          "metadata": {}
        },
        {
          "output_type": "stream",
          "name": "stdout",
          "text": [
            "The shape has vertical symmetry.\n",
            "The shape has horizontal symmetry.\n"
          ]
        },
        {
          "output_type": "display_data",
          "data": {
            "text/plain": [
              "<Figure size 640x480 with 1 Axes>"
            ],
            "image/png": "[encoded data removed]"
          },
          "metadata": {}
        },
        {
          "output_type": "stream",
          "name": "stdout",
          "text": [
            "Radial Symmetry detected for circle.\n",
            "Radial Symmetry detected for rectangle.\n"
          ]
        }
      ]
    }
  ]
}